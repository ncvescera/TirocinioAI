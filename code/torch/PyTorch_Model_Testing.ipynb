{
  "nbformat": 4,
  "nbformat_minor": 0,
  "metadata": {
    "colab": {
      "name": "PyTorch Model Testing.ipynb",
      "provenance": [],
      "collapsed_sections": [],
      "toc_visible": true
    },
    "kernelspec": {
      "name": "python3",
      "display_name": "Python 3"
    },
    "language_info": {
      "name": "python"
    }
  },
  "cells": [
    {
      "cell_type": "markdown",
      "metadata": {
        "id": "xxMDJetblamY"
      },
      "source": [
        "# Preparo l'ambiente di esecuzione\n",
        "\n",
        "Questa fase deve essere eseguita solo una volta per assicurarsi di avere tutto il necessario per far eseguire i vari script."
      ]
    },
    {
      "cell_type": "markdown",
      "metadata": {
        "id": "il_UD0Z5m8_d"
      },
      "source": [
        "## Codice\n",
        "\n",
        "Viene scaricata solo la parte di codice necessaria a far funzionare il testing \n",
        "dei modelli di PyTorch dalla repo di GitHub"
      ]
    },
    {
      "cell_type": "code",
      "metadata": {
        "id": "Ue_4-B47kfTz"
      },
      "source": [
        "!rm -rf *\n",
        "\n",
        "# installa git-lfs per scaricare il progetto\n",
        "!apt install git-lfs\n",
        "!git lfs install\n",
        "\n",
        "!git clone https://github.com/ncvescera/TirocinioAI.git\n",
        "\n",
        "!mkdir dataset\n",
        "\n",
        "!mv ./TirocinioAI/code/torch/* ./\n",
        "!mv ./TirocinioAI/code/analyze.py ./\n",
        "!mv ./TirocinioAI/code/dataset_adapter ./\n",
        "!mv ./TirocinioAI/datasets/aline.zip ./dataset\n",
        "\n",
        "!rm -rf TirocinioAI/\n",
        "!rm *.ipynb"
      ],
      "execution_count": null,
      "outputs": []
    },
    {
      "cell_type": "markdown",
      "metadata": {
        "id": "ztKhv7KTmadg"
      },
      "source": [
        "## Controllo installazione di PyTorch\n",
        "\n",
        "Importando i pacchetti `torch` e `torchvision.models`, se non ho alcun errore, so che sono presenti e funzionanti\n",
        "\n"
      ]
    },
    {
      "cell_type": "code",
      "metadata": {
        "id": "b9kyMaoz0LWS"
      },
      "source": [
        "import torch\n",
        "import torchvision.models"
      ],
      "execution_count": null,
      "outputs": []
    },
    {
      "cell_type": "markdown",
      "metadata": {
        "id": "22IuQw7-pn8M"
      },
      "source": [
        "## Dataset\n",
        "\n",
        "Per scaricare il dataset da kaggle seguire questa guida per abilitare Colab al download dei file da kaggle: [Guida](https://www.kaggle.com/general/74235)\n",
        "\n",
        "Una volta ottenuto il file `kaggle.json` eseguire i comandi seguenti per caricarlo su Colab e spostarlo nella giusta destinazione."
      ]
    },
    {
      "cell_type": "code",
      "metadata": {
        "id": "zKigmIoOn2fM"
      },
      "source": [
        "\n",
        "# permette di scegliere il file da caricare\n",
        "from google.colab import files\n",
        "files.upload()\n",
        "\n",
        "# sposta il file nella giusta cartella\n",
        "!mkdir ~/.kaggle\n",
        "!mv kaggle.json ~/.kaggle/\n",
        "\n",
        "# scarica il dataset e lo estrae\n",
        "!kaggle datasets download -d ifigotin/imagenetmini-1000\n",
        "!mkdir dataset\n",
        "!unzip imagenetmini-1000.zip -d dataset/\n",
        "!rm imagenetmini-1000.zip\n",
        "\n",
        "# prepara il dataset ALine\n",
        "!unzip ./dataset/aline.zip -d ./dataset/\n",
        "!rm -rf ./dataset/aline.zip\n",
        "\n",
        "# avvia lo script per adattare il dataset\n",
        "!sed -i 's/dataset_path =.*/dataset_path = \"..\\/dataset\\/originali\"/' ./dataset_adapter/adapter.py\n",
        "%cd ./dataset_adapter/\n",
        "!python adapter.py\n",
        "\n",
        "# sposta il dataset nella giusta cartella\n",
        "%cd ..\n",
        "!mv ./dataset_adapter/ALine ./dataset/"
      ],
      "execution_count": null,
      "outputs": []
    },
    {
      "cell_type": "markdown",
      "metadata": {
        "id": "bnqyGzF6swxc"
      },
      "source": [
        "# Esecuzione del Testing\n",
        "\n",
        "Configuro lo script con la giusta posizione del dataset e avvio i vari test\n",
        "\n",
        "\n",
        "\n",
        "\n"
      ]
    },
    {
      "cell_type": "markdown",
      "metadata": {
        "id": "zzcYiq2XTlwC"
      },
      "source": [
        "## Configurazione path dataset\n",
        "\n",
        "**IMPORTANTE**, prima di far partire lo script assicurati di aver modificato la variabile `dataset_dir` all'interno del file `main.py` con il giusto percorso della cartella contenente le immagini !!\n",
        "\n",
        "Un possibile esempio:\n",
        "\n",
        "```\n",
        "...\n",
        "dataset_dir = './dataset/imagenet-mini/val'\n",
        "...\n",
        "```"
      ]
    },
    {
      "cell_type": "markdown",
      "metadata": {
        "id": "dk-oiAEgTwJ6"
      },
      "source": [
        "Questo comando dovrebbe farlo in automatico, ma per sicurezza controllare sempre !"
      ]
    },
    {
      "cell_type": "code",
      "metadata": {
        "id": "wDI141k_TzIr"
      },
      "source": [
        "# sostituisce solo la prima occorrenza\n",
        "!sed -i '0,/dataset_dir =.*/s/dataset_dir =.*/dataset_dir = \".\\/dataset\\/imagenet-mini\\/val\"/' main.py\n",
        "!sed -i '0,/aline =.*/s/aline =.*/aline = \".\\/dataset\\/ALine\"/' main.py"
      ],
      "execution_count": 29,
      "outputs": []
    },
    {
      "cell_type": "markdown",
      "metadata": {
        "id": "2n3cqfqKlZo0"
      },
      "source": [
        "## Testing ImageNetMini"
      ]
    },
    {
      "cell_type": "markdown",
      "metadata": {
        "id": "OY1YMgqhT3by"
      },
      "source": [
        "### Immagini Originali"
      ]
    },
    {
      "cell_type": "markdown",
      "metadata": {
        "id": "NKeisJvcT57w"
      },
      "source": [
        "Lo script può funzionare anche in modalità `single-thread` tramite l'argomento `--nothreads`.\n",
        "Se si vuole avviare lo scritp in modalità `single-thread` decommentare la prima riga e commentare la seconda.\n",
        "\n",
        "Avviare il testing con il seguente comando: "
      ]
    },
    {
      "cell_type": "code",
      "metadata": {
        "id": "r5gG019hs12q"
      },
      "source": [
        "# !python main.py --nothreads\n",
        "!python main.py\n",
        "\n",
        "!mkdir results_imagenet\n",
        "!mv *.csv results_imagenet/"
      ],
      "execution_count": null,
      "outputs": []
    },
    {
      "cell_type": "markdown",
      "metadata": {
        "id": "03YrALJ-nDSM"
      },
      "source": [
        "### Immagini GrayScale"
      ]
    },
    {
      "cell_type": "markdown",
      "metadata": {
        "id": "Dw9up7NjUDsh"
      },
      "source": [
        "Per avviare il testing del dataset applicando il filtro `GrayScale` passare allo script il seguente argomento: `-g`.\n",
        "\n",
        "Avviare il testing con il filtro GrayScale con il seguente comando:"
      ]
    },
    {
      "cell_type": "code",
      "metadata": {
        "id": "7PZK7pFUUHZa"
      },
      "source": [
        "# !python main.py -g --nothreads\n",
        "!python main.py -g\n",
        "\n",
        "!mkdir gresults_imagenet\n",
        "!mv *.csv gresults_imagenet/"
      ],
      "execution_count": null,
      "outputs": []
    },
    {
      "cell_type": "markdown",
      "metadata": {
        "id": "U-Q57P8Kxsbh"
      },
      "source": [
        "### Analisi dei Risultati\n",
        "\n",
        "Con il seguente comando vengono analizzati tutti i file csv creati durante la fase di testing e vengono ritornate le statistiche deli vari modelli"
      ]
    },
    {
      "cell_type": "markdown",
      "metadata": {
        "id": "bUDADa-qUOi2"
      },
      "source": [
        "Risultati del testing con **immagini non alterate**:"
      ]
    },
    {
      "cell_type": "code",
      "metadata": {
        "id": "JuxTZN0RxM6x"
      },
      "source": [
        "!python analyze.py $(ls -d ./results_imagenet/*)"
      ],
      "execution_count": null,
      "outputs": []
    },
    {
      "cell_type": "markdown",
      "metadata": {
        "id": "YfYhz9FBUS_k"
      },
      "source": [
        "Risultati del testing con **immagini con flitro GrayScale**:"
      ]
    },
    {
      "cell_type": "code",
      "metadata": {
        "id": "cUtCf9E0UWZ4"
      },
      "source": [
        "!python analyze.py $(ls -d ./gresults_imagenet/*)"
      ],
      "execution_count": null,
      "outputs": []
    },
    {
      "cell_type": "markdown",
      "metadata": {
        "id": "m6WQky9pl3xw"
      },
      "source": [
        "## Testing ALine"
      ]
    },
    {
      "cell_type": "markdown",
      "metadata": {
        "id": "K_edf-Z5mj1H"
      },
      "source": [
        "### Immagini Originali"
      ]
    },
    {
      "cell_type": "markdown",
      "metadata": {
        "id": "8bwH5mXqmoRx"
      },
      "source": [
        "Lo script può funzionare anche in modalità `single-thread` tramite l'argomento `--nothreads`.\n",
        "Se si vuole avviare lo scritp in modalità `single-thread` decommentare la prima riga e commentare la seconda.\n",
        "\n",
        "Avviare il testing con il seguente comando: "
      ]
    },
    {
      "cell_type": "code",
      "metadata": {
        "id": "3TeZgB7umqxe"
      },
      "source": [
        "# !python main.py --nothreads --dataset ALine\n",
        "!python main.py --dataset ALine\n",
        "\n",
        "!mkdir results_aline\n",
        "!mv *.csv results_aline/"
      ],
      "execution_count": null,
      "outputs": []
    },
    {
      "cell_type": "markdown",
      "metadata": {
        "id": "fl5yW_1oUBiZ"
      },
      "source": [
        "### Immagini GrayScale"
      ]
    },
    {
      "cell_type": "markdown",
      "metadata": {
        "id": "bZJI-d39nIw3"
      },
      "source": [
        "Per avviare il testing del dataset applicando il filtro `GrayScale` passare allo script il seguente argomento: `-g`.\n",
        "\n",
        "Avviare il testing con il filtro GrayScale con il seguente comando:"
      ]
    },
    {
      "cell_type": "code",
      "metadata": {
        "id": "c7f7P-LNnLIT"
      },
      "source": [
        "# !python main.py -g --nothreads --dataset ALine\n",
        "!python main.py -g --dataset ALine\n",
        "\n",
        "!mkdir gresults_aline\n",
        "!mv *.csv gresults_aline/"
      ],
      "execution_count": null,
      "outputs": []
    },
    {
      "cell_type": "markdown",
      "metadata": {
        "id": "BKMazQtCnVVW"
      },
      "source": [
        "### Analisi dei Risultati\n",
        "\n",
        "Con il seguente comando vengono analizzati tutti i file csv creati durante la fase di testing e vengono ritornate le statistiche deli vari modelli"
      ]
    },
    {
      "cell_type": "markdown",
      "metadata": {
        "id": "qz2rNcENnXym"
      },
      "source": [
        "Risultati del testing con **immagini non alterate**:"
      ]
    },
    {
      "cell_type": "code",
      "metadata": {
        "id": "avpn2ScOnZye"
      },
      "source": [
        "!python analyze.py $(ls -d ./results_aline/*)"
      ],
      "execution_count": null,
      "outputs": []
    },
    {
      "cell_type": "markdown",
      "metadata": {
        "id": "5kvNw8aUneLL"
      },
      "source": [
        "Risultati del testing con **immagini con flitro GrayScale**:"
      ]
    },
    {
      "cell_type": "code",
      "metadata": {
        "id": "HY4TZ0YjngFd"
      },
      "source": [
        "!python analyze.py $(ls -d ./gresults_aline/*)"
      ],
      "execution_count": null,
      "outputs": []
    }
  ]
}