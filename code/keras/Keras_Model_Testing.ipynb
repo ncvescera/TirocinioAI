{
  "nbformat": 4,
  "nbformat_minor": 0,
  "metadata": {
    "colab": {
      "name": "Keras Model Testing.ipynb",
      "provenance": [],
      "collapsed_sections": [],
      "toc_visible": true
    },
    "kernelspec": {
      "name": "python3",
      "display_name": "Python 3"
    },
    "language_info": {
      "name": "python"
    }
  },
  "cells": [
    {
      "cell_type": "markdown",
      "metadata": {
        "id": "xxMDJetblamY"
      },
      "source": [
        "# Preparo l'ambiente di esecuzione\n",
        "\n",
        "Questa fase deve essere eseguita solo una volta per assicurarsi di avere tutto il necessario per far eseguire i vari script."
      ]
    },
    {
      "cell_type": "markdown",
      "metadata": {
        "id": "il_UD0Z5m8_d"
      },
      "source": [
        "## Codice\n",
        "\n",
        "Viene scaricata solo la parte di codice necessaria a far funzionare il testing \n",
        "dei modelli di Keras dalla repo di GitHub"
      ]
    },
    {
      "cell_type": "code",
      "metadata": {
        "id": "Ue_4-B47kfTz"
      },
      "source": [
        "!rm -rf sample_data/\n",
        "!git clone https://github.com/ncvescera/TirocinioAI.git\n",
        "!mv ./TirocinioAI/code/keras/* ./\n",
        "!mv ./TirocinioAI/code/analyze.py ./\n",
        "!rm -rf TirocinioAI/\n",
        "!rm *.ipynb"
      ],
      "execution_count": null,
      "outputs": []
    },
    {
      "cell_type": "markdown",
      "metadata": {
        "id": "ztKhv7KTmadg"
      },
      "source": [
        "## Controllo installazione di Tensorflow e Keras\n",
        "\n",
        "Importando i pacchetti `tensorflow` e `tensorflow.keras`, se non ho alcun errore, so che sono presenti e funzionanti\n",
        "\n"
      ]
    },
    {
      "cell_type": "code",
      "metadata": {
        "id": "dEtDbdYtl3-3"
      },
      "source": [
        "import tensorflow\n",
        "import tensorflow.keras"
      ],
      "execution_count": null,
      "outputs": []
    },
    {
      "cell_type": "markdown",
      "metadata": {
        "id": "22IuQw7-pn8M"
      },
      "source": [
        "## Dataset\n",
        "\n",
        "Per scaricare il dataset da kaggle seguire questa guida per abilitare Colab al download dei file da kaggle: [Guida](https://www.kaggle.com/general/74235)\n",
        "\n",
        "Una volta ottenuto il file `kaggle.json` eseguire i comandi seguenti per caricarlo su Colab e spostarlo nella giusta destinazione."
      ]
    },
    {
      "cell_type": "code",
      "metadata": {
        "id": "zKigmIoOn2fM"
      },
      "source": [
        "# permette di scegliere il file da caricare\n",
        "from google.colab import files\n",
        "files.upload()\n",
        "\n",
        "!mv kaggle.json /root/.kaggle/\n",
        "!kaggle datasets download -d ifigotin/imagenetmini-1000\n",
        "!mkdir dataset\n",
        "!unzip imagenetmini-1000.zip -d dataset/\n",
        "!rm imagenetmini-1000.zip"
      ],
      "execution_count": null,
      "outputs": []
    },
    {
      "cell_type": "markdown",
      "metadata": {
        "id": "bnqyGzF6swxc"
      },
      "source": [
        "# Esecuzione del Testing\n",
        "\n",
        "\n",
        "\n",
        "\n",
        "\n"
      ]
    },
    {
      "cell_type": "markdown",
      "metadata": {
        "id": "ZBqnO0pPEimQ"
      },
      "source": [
        "## Configurazione path dataset"
      ]
    },
    {
      "cell_type": "markdown",
      "metadata": {
        "id": "cX67WbXSEbVV"
      },
      "source": [
        "**IMPORTANTE**, prima di far partire lo script assicurati di aver modificato la variabile `dataset_dir` all'interno del file `main.py` con il giusto percorso della cartella contenente le immagini !!\n",
        "\n",
        "Un possibile esempio:\n",
        "\n",
        "```\n",
        "...\n",
        "dataset_dir = './dataset/imagenet-mini/val'\n",
        "...\n",
        "```"
      ]
    },
    {
      "cell_type": "markdown",
      "metadata": {
        "id": "BryDT1IhPiub"
      },
      "source": [
        "Questo comando dovrebbe farlo in automatico, ma per sicurezza controllare sempre !"
      ]
    },
    {
      "cell_type": "code",
      "metadata": {
        "id": "KdldgwqePejM"
      },
      "source": [
        "!sed -i 's/dataset_dir =.*/dataset_dir = \".\\/dataset\\/imagenet-mini\\/val\"/' main.py"
      ],
      "execution_count": 4,
      "outputs": []
    },
    {
      "cell_type": "markdown",
      "metadata": {
        "id": "FwMSSLv9EqK5"
      },
      "source": [
        "## Testing Immagini Originali"
      ]
    },
    {
      "cell_type": "markdown",
      "metadata": {
        "id": "5zlsiNoHPqCj"
      },
      "source": [
        "Lo script può funzionare anche in modalità `single-thread` tramite l'argomento `--nothreads`.\n",
        "Se si vuole avviare lo scritp in modalità `single-thread` decommentare la prima riga e commentare la seconda.\n",
        "\n",
        "Avviare il testing con il seguente comando: "
      ]
    },
    {
      "cell_type": "code",
      "metadata": {
        "id": "r5gG019hs12q"
      },
      "source": [
        "# !python main.py --nothreads\n",
        "!python main.py\n",
        "\n",
        "!mkdir results\n",
        "!mv *.csv results/"
      ],
      "execution_count": null,
      "outputs": []
    },
    {
      "cell_type": "markdown",
      "metadata": {
        "id": "R_cDMMW7FSOK"
      },
      "source": [
        "## Testing Immagini GrayScale"
      ]
    },
    {
      "cell_type": "markdown",
      "metadata": {
        "id": "ki-lHcG7FWf_"
      },
      "source": [
        "Per avviare il testing del dataset applicando il filtro `GrayScale` passare allo script il seguente argomento: `-g`.\n",
        "\n",
        "Avviare il testing con il filtro GrayScale con il seguente comando:"
      ]
    },
    {
      "cell_type": "code",
      "metadata": {
        "id": "M7ioR5LkFlvX"
      },
      "source": [
        "# !python main.py -g --nothreads\n",
        "!python main.py -g\n",
        "\n",
        "!mkdir gresults\n",
        "!mv *.csv gresults/"
      ],
      "execution_count": null,
      "outputs": []
    },
    {
      "cell_type": "markdown",
      "metadata": {
        "id": "U-Q57P8Kxsbh"
      },
      "source": [
        "# Analisi dei Risultati\n",
        "\n",
        "Con il seguente comando vengono analizzati tutti i file csv creati durante la fase di testing e vengono ritornate le statistiche deli vari modelli"
      ]
    },
    {
      "cell_type": "markdown",
      "metadata": {
        "id": "PVslh9tdHcmb"
      },
      "source": [
        "Risultati del testing con **immagini non alterate**:"
      ]
    },
    {
      "cell_type": "code",
      "metadata": {
        "id": "JuxTZN0RxM6x"
      },
      "source": [
        "!python analyze.py $(ls -d ./results/*)"
      ],
      "execution_count": null,
      "outputs": []
    },
    {
      "cell_type": "markdown",
      "metadata": {
        "id": "Xeu48sZaHi_1"
      },
      "source": [
        "Risultati del testing con **immagini con flitro GrayScale**:"
      ]
    },
    {
      "cell_type": "code",
      "metadata": {
        "id": "iupYpBAjHWg5"
      },
      "source": [
        "!python analyze.py $(ls -d ./gresults/*)"
      ],
      "execution_count": null,
      "outputs": []
    }
  ]
}