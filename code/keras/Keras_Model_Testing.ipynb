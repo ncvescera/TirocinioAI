{
  "nbformat": 4,
  "nbformat_minor": 0,
  "metadata": {
    "colab": {
      "name": "Keras Model Testing.ipynb",
      "provenance": [],
      "collapsed_sections": [],
      "toc_visible": true
    },
    "kernelspec": {
      "name": "python3",
      "display_name": "Python 3"
    },
    "language_info": {
      "name": "python"
    }
  },
  "cells": [
    {
      "cell_type": "markdown",
      "metadata": {
        "id": "xxMDJetblamY"
      },
      "source": [
        "# Preparo l'ambiente di esecuzione\n",
        "\n",
        "Questa fase deve essere eseguita solo una volta per assicurarsi di avere tutto il necessario per far eseguire i vari script."
      ]
    },
    {
      "cell_type": "markdown",
      "metadata": {
        "id": "il_UD0Z5m8_d"
      },
      "source": [
        "## Codice\n",
        "\n",
        "Viene scaricata solo la parte di codice necessaria a far funzionare il testing \n",
        "dei modelli dei Keras dalla repo di GitHub"
      ]
    },
    {
      "cell_type": "code",
      "metadata": {
        "id": "Ue_4-B47kfTz"
      },
      "source": [
        "!git clone https://github.com/ncvescera/TirocinioAI.git\n",
        "!mv ./TirocinioAI/code/keras/* ./\n",
        "!mv ./TirocinioAI/code/analyze.py ./\n",
        "!rm -rf TirocinioAI/"
      ],
      "execution_count": null,
      "outputs": []
    },
    {
      "cell_type": "markdown",
      "metadata": {
        "id": "ztKhv7KTmadg"
      },
      "source": [
        "## Controllo installazione di Tensorflow e Keras\n",
        "\n",
        "Importando i pacchetti `tensorflow` e `tensorflow.keras`, se non ho alcun errore, so che sono presenti e funzionanti\n",
        "\n"
      ]
    },
    {
      "cell_type": "code",
      "metadata": {
        "id": "dEtDbdYtl3-3"
      },
      "source": [
        "import tensorflow\n",
        "import tensorflow.keras"
      ],
      "execution_count": null,
      "outputs": []
    },
    {
      "cell_type": "code",
      "metadata": {
        "id": "x2suhE9Mk-hA"
      },
      "source": [
        "!rm -rf TirocinioAI main.py models"
      ],
      "execution_count": null,
      "outputs": []
    },
    {
      "cell_type": "markdown",
      "metadata": {
        "id": "22IuQw7-pn8M"
      },
      "source": [
        "## Dataset\n",
        "\n",
        "Per scaricare il dataset da kaggle seguire questa guida per abilitare Colab al download dei file da kaggle: [Guida](https://www.kaggle.com/general/74235)\n",
        "\n",
        "Una volta caricato il file `kaggle.json` eseguire i comandi seguenti."
      ]
    },
    {
      "cell_type": "code",
      "metadata": {
        "id": "zKigmIoOn2fM"
      },
      "source": [
        "!cd /content/\n",
        "!mv kaggle.json ~/.kaggle/\n",
        "!kaggle datasets download -d ifigotin/imagenetmini-1000\n",
        "!mkdir dataset\n",
        "!unzip imagenetmini-1000.zip -d dataset/\n",
        "!rm imagenetmini-1000.zip"
      ],
      "execution_count": null,
      "outputs": []
    },
    {
      "cell_type": "markdown",
      "metadata": {
        "id": "bnqyGzF6swxc"
      },
      "source": [
        "# Esecuzione del Testing\n",
        "\n",
        "**IMPORTANTE**, prima di far partire lo script assicurati di aver modificato la variabile `dataset_dir` all'interno del file `main.py` con il giusto percorso della cartella contenente le immagini !!\n",
        "\n",
        "Un possibile esempio:\n",
        "\n",
        "```\n",
        "...\n",
        "dataset_dir = './dataset/imagenet-mini/val'\n",
        "...\n",
        "```\n",
        "\n",
        "\n",
        "\n"
      ]
    },
    {
      "cell_type": "code",
      "metadata": {
        "id": "r5gG019hs12q"
      },
      "source": [
        "!python main.py\n",
        "\n",
        "!mkdir results\n",
        "!mv *.csv results/"
      ],
      "execution_count": null,
      "outputs": []
    },
    {
      "cell_type": "markdown",
      "metadata": {
        "id": "U-Q57P8Kxsbh"
      },
      "source": [
        "# Analisi dei Risultati\n",
        "\n",
        "Con il seguente comando vengono analizzati tutti i file csv creati durante la fase di testing e vengono ritornate le statistiche deli vari modelli"
      ]
    },
    {
      "cell_type": "code",
      "metadata": {
        "id": "JuxTZN0RxM6x"
      },
      "source": [
        "!python analyze.py $(ls -d ./results/*)"
      ],
      "execution_count": null,
      "outputs": []
    }
  ]
}