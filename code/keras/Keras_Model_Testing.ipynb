{
  "nbformat": 4,
  "nbformat_minor": 0,
  "metadata": {
    "colab": {
      "name": "Keras Model Testing.ipynb",
      "provenance": [],
      "collapsed_sections": [],
      "toc_visible": true
    },
    "kernelspec": {
      "name": "python3",
      "display_name": "Python 3"
    },
    "language_info": {
      "name": "python"
    }
  },
  "cells": [
    {
      "cell_type": "markdown",
      "metadata": {
        "id": "xxMDJetblamY"
      },
      "source": [
        "# Preparo l'ambiente di esecuzione\n",
        "\n",
        "Questa fase deve essere eseguita solo una volta per assicurarsi di avere tutto il necessario per far eseguire i vari script."
      ]
    },
    {
      "cell_type": "markdown",
      "metadata": {
        "id": "il_UD0Z5m8_d"
      },
      "source": [
        "## Codice\n",
        "\n",
        "Viene scaricata solo la parte di codice necessaria a far funzionare il testing \n",
        "dei modelli di Keras dalla repo di GitHub"
      ]
    },
    {
      "cell_type": "code",
      "metadata": {
        "id": "Ue_4-B47kfTz"
      },
      "source": [
        "!rm -rf *\n",
        "\n",
        "# clona la repo\n",
        "!git clone https://github.com/ncvescera/TirocinioAI.git\n",
        "\n",
        "# crea la cartella per i datasets\n",
        "!mkdir dataset\n",
        "\n",
        "# sposto i file dalla cartella della repo nelle giuste cartelle appena create\n",
        "!mv ./TirocinioAI/code/keras/* ./\n",
        "!mv ./TirocinioAI/code/analyze.py ./\n",
        "!mv ./TirocinioAI/code/dataset_adapter ./\n",
        "!mv ./TirocinioAI/code/deep_undeeper ./\n",
        "!mkdir results\n",
        "\n",
        "# elimino file e cartelle inutili\n",
        "!rm -rf TirocinioAI/\n",
        "!rm *.ipynb"
      ],
      "execution_count": null,
      "outputs": []
    },
    {
      "cell_type": "markdown",
      "metadata": {
        "id": "ztKhv7KTmadg"
      },
      "source": [
        "## Controllo installazione di Tensorflow e Keras\n",
        "\n",
        "Importando i pacchetti `tensorflow` e `tensorflow.keras`, se non ho alcun errore, so che sono presenti e funzionanti\n",
        "\n"
      ]
    },
    {
      "cell_type": "code",
      "metadata": {
        "id": "dEtDbdYtl3-3"
      },
      "source": [
        "import tensorflow\n",
        "import tensorflow.keras"
      ],
      "execution_count": null,
      "outputs": []
    },
    {
      "cell_type": "markdown",
      "metadata": {
        "id": "22IuQw7-pn8M"
      },
      "source": [
        "## Dataset\n",
        "\n",
        "Per scaricare il dataset da kaggle seguire questa guida per abilitare Colab al download dei file da kaggle: [Guida](https://www.kaggle.com/general/74235)\n",
        "\n",
        "Una volta ottenuto il file `kaggle.json` eseguire i comandi seguenti per caricarlo su Colab e spostarlo nella giusta destinazione."
      ]
    },
    {
      "cell_type": "code",
      "metadata": {
        "id": "zKigmIoOn2fM"
      },
      "source": [
        "\n",
        "# permette di scegliere il file da caricare\n",
        "from google.colab import files\n",
        "files.upload()\n",
        "\n",
        "# sposta il file nella giusta cartella\n",
        "!mkdir ~/.kaggle\n",
        "!mv kaggle.json ~/.kaggle/\n",
        "\n",
        "# *** IMAGENETMINI *** #\n",
        "# scarica il dataset e lo estrae\n",
        "!kaggle datasets download -d ifigotin/imagenetmini-1000\n",
        "!unzip imagenetmini-1000.zip -d dataset/\n",
        "!rm imagenetmini-1000.zip\n",
        "\n",
        "# *** ALINE *** #\n",
        "# scarica il dataset ALine\n",
        "!kaggle datasets download -d nicolvescera/aline\n",
        "\n",
        "# preparazione dataset ALine\n",
        "!unzip aline.zip -d dataset/  # prepara il dataset ALine\n",
        "\n",
        "# converte il dataset nella giusta forma\n",
        "%cd dataset_adapter/\n",
        "!python adapter.py -i ../dataset/originali -o ../dataset/ALine \n",
        "%cd ..\n",
        "\n",
        "# elimina lo zip di ALine\n",
        "!rm aline.zip"
      ],
      "execution_count": null,
      "outputs": []
    },
    {
      "cell_type": "markdown",
      "metadata": {
        "id": "bnqyGzF6swxc"
      },
      "source": [
        "# Esecuzione del Testing\n",
        "\n",
        "Eseguo i vari test dei modelli.\n",
        "\n",
        "\n",
        "\n"
      ]
    },
    {
      "cell_type": "markdown",
      "metadata": {
        "id": "0-qtOS3QzSqd"
      },
      "source": [
        "## Testing ImageNetMini"
      ]
    },
    {
      "cell_type": "markdown",
      "metadata": {
        "id": "CAazcBFyGjiS"
      },
      "source": [
        "Scarico prima tutti i modelli per evitare che venga fatto durante la fase di testing.\n",
        "\n",
        "(non sembra molto funzionare ...)"
      ]
    },
    {
      "cell_type": "code",
      "metadata": {
        "id": "Oh1lBrO8HGVC"
      },
      "source": [
        "!python main.py -i test -d"
      ],
      "execution_count": null,
      "outputs": []
    },
    {
      "cell_type": "markdown",
      "metadata": {
        "id": "PzwFoiqhJrrf"
      },
      "source": [
        "Viene creata una cartella per salvare tutti i risultati prodotti durante la fase di testing con il dataset ImageNetMini."
      ]
    },
    {
      "cell_type": "code",
      "metadata": {
        "id": "XNg4unVNJiN8"
      },
      "source": [
        "# crea la cartella per i risultati di ImageNetMini\n",
        "!mkdir ./results/ImageNetMini"
      ],
      "execution_count": null,
      "outputs": []
    },
    {
      "cell_type": "markdown",
      "metadata": {
        "id": "FwMSSLv9EqK5"
      },
      "source": [
        "### Immagini Originali"
      ]
    },
    {
      "cell_type": "markdown",
      "metadata": {
        "id": "5zlsiNoHPqCj"
      },
      "source": [
        "Lo script può funzionare anche in modalità `single-thread` tramite l'argomento `--nothreads`.\n",
        "Se si vuole avviare lo scritp in modalità `single-thread` decommentare la prima riga e commentare la seconda.\n",
        "\n",
        "Avviare il testing con il seguente comando: "
      ]
    },
    {
      "cell_type": "code",
      "metadata": {
        "id": "r5gG019hs12q"
      },
      "source": [
        "# !python main.py -i ./dataset/imagenet-mini/val/ --all --nothreads\n",
        "!python main.py -i ./dataset/imagenet-mini/val/ --all\n",
        "\n",
        "!mkdir results_imagenet\n",
        "!mv *.csv results_imagenet/\n",
        "!mv results_imagenet ./results/ImageNetMini"
      ],
      "execution_count": null,
      "outputs": []
    },
    {
      "cell_type": "markdown",
      "metadata": {
        "id": "R_cDMMW7FSOK"
      },
      "source": [
        "### Immagini GrayScale"
      ]
    },
    {
      "cell_type": "markdown",
      "metadata": {
        "id": "ki-lHcG7FWf_"
      },
      "source": [
        "Per avviare il testing del dataset applicando il filtro `GrayScale` passare allo script il seguente argomento: `-g`.\n",
        "\n",
        "Avviare il testing con il filtro GrayScale con il seguente comando:"
      ]
    },
    {
      "cell_type": "code",
      "metadata": {
        "id": "M7ioR5LkFlvX"
      },
      "source": [
        "# !python main.py -i ./dataset/imagenet-mini/val/ -g --nothreads --all\n",
        "!python main.py -i ./dataset/imagenet-mini/val/ -g --all\n",
        "\n",
        "!mkdir gresults_imagenet\n",
        "!mv *.csv gresults_imagenet/\n",
        "!mv gresults_imagenet ./results/ImageNetMini"
      ],
      "execution_count": null,
      "outputs": []
    },
    {
      "cell_type": "markdown",
      "metadata": {
        "id": "U-Q57P8Kxsbh"
      },
      "source": [
        "### Analisi dei Risultati\n",
        "\n",
        "Con il seguente comando vengono analizzati tutti i file csv creati durante la fase di testing e vengono ritornate le statistiche deli vari modelli"
      ]
    },
    {
      "cell_type": "markdown",
      "metadata": {
        "id": "PVslh9tdHcmb"
      },
      "source": [
        "Risultati del testing con **immagini non alterate**:"
      ]
    },
    {
      "cell_type": "code",
      "metadata": {
        "id": "JuxTZN0RxM6x"
      },
      "source": [
        "files = !ls -ld ./results/ImageNetMini/results_imagenet/*  # prende tutti i file .csv da analizzare\n",
        "ff = \"\".join([x.split(\" \")[-1] + \" \" for x in files]) # sistema le singole stringhe per essere \n",
        "                                                      # passate allo script\n",
        "\n",
        "# sta roba serve per poter stampare il grafico all'interno del Notebook\n",
        "%run -i analyze.py -i {ff} --plot\n",
        "\n",
        "# se non si vuole stampare il grafico usare questa\n",
        "#!python analyze.py -i $(ls -d ./results/ImageNetMini/results_imagenet/*)"
      ],
      "execution_count": null,
      "outputs": []
    },
    {
      "cell_type": "markdown",
      "metadata": {
        "id": "Xeu48sZaHi_1"
      },
      "source": [
        "Risultati del testing con **immagini con flitro GrayScale**:"
      ]
    },
    {
      "cell_type": "code",
      "metadata": {
        "id": "iupYpBAjHWg5"
      },
      "source": [
        "files = !ls -ld ./results/ImageNetMini/gresults_imagenet/*  # prende tutti i file .csv da analizzare\n",
        "ff = \"\".join([x.split(\" \")[-1] + \" \" for x in files]) # sistema le singole stringhe per essere \n",
        "                                                      # passate allo script\n",
        "\n",
        "# sta roba serve per poter stampare il grafico all'interno del Notebook\n",
        "%run -i analyze.py -i {ff} --plot\n",
        "\n",
        "# se non si vuole stampare il grafico usare questa\n",
        "#!python analyze.py -i $(ls -d ./results/ImageNetMini/gresults_imagenet/*)"
      ],
      "execution_count": null,
      "outputs": []
    },
    {
      "cell_type": "markdown",
      "metadata": {
        "id": "VuMCIiNNzpW4"
      },
      "source": [
        "## Testing ALine"
      ]
    },
    {
      "cell_type": "markdown",
      "metadata": {
        "id": "Smo8pysAKDrc"
      },
      "source": [
        "Viene creata una cartella per salvare tutti i risultati prodotti durante la fase di testing con il dataset ALine."
      ]
    },
    {
      "cell_type": "code",
      "metadata": {
        "id": "z8553ixbKHsX"
      },
      "source": [
        "# crea la cartella per i risultati di ALine\n",
        "!mkdir ./results/ALine"
      ],
      "execution_count": null,
      "outputs": []
    },
    {
      "cell_type": "markdown",
      "metadata": {
        "id": "K_edf-Z5mj1H"
      },
      "source": [
        "### Immagini Originali"
      ]
    },
    {
      "cell_type": "markdown",
      "metadata": {
        "id": "8bwH5mXqmoRx"
      },
      "source": [
        "Lo script può funzionare anche in modalità `single-thread` tramite l'argomento `--nothreads`.\n",
        "Se si vuole avviare lo scritp in modalità `single-thread` decommentare la prima riga e commentare la seconda.\n",
        "\n",
        "Avviare il testing con il seguente comando: "
      ]
    },
    {
      "cell_type": "code",
      "metadata": {
        "id": "3TeZgB7umqxe"
      },
      "source": [
        "# !python main.py -i ./dataset/ALine --all --nothreads\n",
        "!python main.py -i ./dataset/ALine --all\n",
        "\n",
        "!mkdir results_aline\n",
        "!mv *.csv results_aline/\n",
        "!mv results_aline ./results/ALine"
      ],
      "execution_count": null,
      "outputs": []
    },
    {
      "cell_type": "markdown",
      "metadata": {
        "id": "fl5yW_1oUBiZ"
      },
      "source": [
        "### Immagini GrayScale"
      ]
    },
    {
      "cell_type": "markdown",
      "metadata": {
        "id": "bZJI-d39nIw3"
      },
      "source": [
        "Per avviare il testing del dataset applicando il filtro `GrayScale` passare allo script il seguente argomento: `-g`.\n",
        "\n",
        "Avviare il testing con il filtro GrayScale con il seguente comando:"
      ]
    },
    {
      "cell_type": "code",
      "metadata": {
        "id": "c7f7P-LNnLIT"
      },
      "source": [
        "# !python main.py -i ./dataset/ALine -g --all --nothreads\n",
        "!python main.py -i ./dataset/ALine -g --all\n",
        "\n",
        "!mkdir gresults_aline\n",
        "!mv *.csv gresults_aline/\n",
        "!mv gresults_aline ./results/ALine"
      ],
      "execution_count": null,
      "outputs": []
    },
    {
      "cell_type": "markdown",
      "metadata": {
        "id": "BKMazQtCnVVW"
      },
      "source": [
        "### Analisi dei Risultati\n",
        "\n",
        "Con il seguente comando vengono analizzati tutti i file csv creati durante la fase di testing e vengono ritornate le statistiche deli vari modelli"
      ]
    },
    {
      "cell_type": "markdown",
      "metadata": {
        "id": "qz2rNcENnXym"
      },
      "source": [
        "Risultati del testing con **immagini non alterate**:"
      ]
    },
    {
      "cell_type": "code",
      "metadata": {
        "id": "avpn2ScOnZye"
      },
      "source": [
        "files = !ls -ld ./results/ALine/results_aline/*  # prende tutti i file .csv da analizzare\n",
        "ff = \"\".join([x.split(\" \")[-1] + \" \" for x in files]) # sistema le singole stringhe per essere \n",
        "                                                      # passate allo script\n",
        "\n",
        "# sta roba serve per poter stampare il grafico all'interno del Notebook\n",
        "%run -i analyze.py -i {ff} --plot\n",
        "\n",
        "# se non si vuole stampare il grafico usare questa\n",
        "#!python analyze.py -i $(ls -d ./results/ALine/results_aline/*)"
      ],
      "execution_count": null,
      "outputs": []
    },
    {
      "cell_type": "markdown",
      "metadata": {
        "id": "5kvNw8aUneLL"
      },
      "source": [
        "Risultati del testing con **immagini con flitro GrayScale**:"
      ]
    },
    {
      "cell_type": "code",
      "metadata": {
        "id": "HY4TZ0YjngFd"
      },
      "source": [
        "files = !ls -ld ./results/ALine/gresults_aline/*  # prende tutti i file .csv da analizzare\n",
        "ff = \"\".join([x.split(\" \")[-1] + \" \" for x in files]) # sistema le singole stringhe per essere \n",
        "                                                      # passate allo script\n",
        "\n",
        "# sta roba serve per poter stampare il grafico all'interno del Notebook\n",
        "%run -i analyze.py -i {ff} --plot\n",
        "\n",
        "# se non si vuole stampare il grafico usare questa\n",
        "# !python analyze.py -i $(ls -d ./results/ALine/gresults_aline/*)"
      ],
      "execution_count": null,
      "outputs": []
    },
    {
      "cell_type": "markdown",
      "metadata": {
        "id": "p0f5t_4uMPvI"
      },
      "source": [
        "## ALine e filtri di Diego"
      ]
    },
    {
      "cell_type": "markdown",
      "metadata": {
        "id": "F9k8nV7VMXCa"
      },
      "source": [
        "In questa sezione vado ad applicare i filtri di Diego alle immagini del Dataset ALine per vedere quanto peggiorano le performance dei modelli.\n",
        "\n",
        "Ad ogni immagine vengono applicati 5 filtri scelti a caso ogni volta.\n",
        "Per rendere ripetibile questo test ho scelto 10 seed diversi che sono i seguenti:\n",
        "\n",
        "* 69\n",
        "* 666\n",
        "* 777\n",
        "* 911\n",
        "* 119\n",
        "* 420\n",
        "* 1308\n",
        "* 7\n",
        "* 23\n",
        "* 9\n",
        "\n",
        "Quindi per ogni seed verrà creata una nuova cartella contenente le immagini modificate con le sequenze random di filtri generate a partire dal seed.\n",
        "Ci impiega molto tempo ad applicare i filtri quindi putroppo non può essere fatto \"in place\".\n"
      ]
    },
    {
      "cell_type": "markdown",
      "metadata": {
        "id": "riR0EwliT3xj"
      },
      "source": [
        "### Applicazione dei Filtri"
      ]
    },
    {
      "cell_type": "code",
      "metadata": {
        "id": "qZRXnR4PNfv2"
      },
      "source": [
        "# creo la cartella dove mettere tutte le immagini filtrate\n",
        "!mkdir ./dataset/Multifilter\n",
        "\n",
        "# eseguo lo script\n",
        "%cd dataset_adapter/\n",
        "!python adapter.py -i ../dataset/originali -o ../dataset/Multifilter/ALine --diego\n",
        "!rm -rf Filtered Images\n",
        "%cd .."
      ],
      "execution_count": null,
      "outputs": []
    },
    {
      "cell_type": "markdown",
      "metadata": {
        "id": "uHiQNkhzUFHm"
      },
      "source": [
        "### Esecuzione Testing"
      ]
    },
    {
      "cell_type": "markdown",
      "metadata": {
        "id": "HX_bN74mUHki"
      },
      "source": [
        "Verranno testati tutti i modelli con tutte le immagini del dataset ALine con i filtri di Diego.\n",
        "\n",
        "Ci vorrà molto tempo in quanto sono 10 dataset diversi !!"
      ]
    },
    {
      "cell_type": "code",
      "metadata": {
        "id": "WkRnBYM3USE2"
      },
      "source": [
        "# creo il file con tutti i path dei dataset alterati dalle immagini\n",
        "!ls -d ./dataset/Multifilter/* > all_filtered.txt\n",
        "\n",
        "# eseguo il test con tutte i dataset\n",
        "!python main.py -i ./all_filtered.txt -f --all\n",
        "\n",
        "# sposta tutti i risultati nella cartella apposita\n",
        "!mkdir ./results/ALine/Multifilter\n",
        "!mv ALine_* ./results/ALine/Multifilter"
      ],
      "execution_count": null,
      "outputs": []
    },
    {
      "cell_type": "markdown",
      "metadata": {
        "id": "AMatRt-OXBGT"
      },
      "source": [
        "# Immagini Naturalmente Forti (?)"
      ]
    },
    {
      "cell_type": "markdown",
      "metadata": {
        "id": "_9I1JjRLXISE"
      },
      "source": [
        "In questa sezione controllo quali immagini vengono classificate bene sia senza alcun filtro che con i filtri. Prenderanno il nome di **Forti**.\n",
        "\n",
        "Vengono anche controllate quali sono le immagini che sono classificate bene globalmente. Prenderanno il nome di **Fortissime**.\n",
        "\n",
        "Un'immagine per essere **Fortissima** deve essere classificata bene sia senza alcun filtro che con TUTTI i filtri. E.G. se una foto viene classificata bene ovunque tranne che nel filtro 69, questa immagine non apparterrà a questa categoria.\n",
        "\n",
        "Un'immagine per essere **Forte** basta che sia classificata bene senza filtri e da un solo filtro."
      ]
    },
    {
      "cell_type": "markdown",
      "metadata": {
        "id": "9NC6hqwOYEMq"
      },
      "source": [
        "Con il seguente script verranno scritti nel file `strongest.txt` i path delle immagini **Fortissime** e in altri file col nome del modello e del seed le immagini **Forti**.\n",
        "\n",
        "E' possibile salvare solo le immagini **Fortissime** ed ignorare gli altri file."
      ]
    },
    {
      "cell_type": "markdown",
      "metadata": {
        "id": "ah6Alh7UZxS4"
      },
      "source": [
        "Bisogna passare allo script dei path delle cartelle dove sono contenuti i dati in `.csv`.\n",
        "\n",
        "E' molto importante che la prima cartella sia quella con i dati dei modelli testati senza alcun filtro o alterazione !!!\n",
        "\n",
        "Questa parte di codice restituisce tutte le cartelle contenute nel path specificato.\n",
        "\n",
        "```\n",
        "$(ls -d ./results/ALine/Multifilter/*)\n",
        "```\n",
        "\n"
      ]
    },
    {
      "cell_type": "code",
      "metadata": {
        "id": "OCqaA8oKY1tt"
      },
      "source": [
        "# trova solo le immagini Fortissime\n",
        "# !python analyze.py -i ./results/ALine/results_aline $(ls -d ./results/ALine/Multifilter/*) --strong --nosave\n",
        "\n",
        "# trova le immagini Forti e Fortissime\n",
        "!python analyze.py -i ./results/ALine/results_aline $(ls -d ./results/ALine/Multifilter/*) --strong\n",
        "\n",
        "!mkdir ./results/ALine/Strong\n",
        "!mv Strong_* ./results/ALine/Strong\n",
        "!mv strongest.txt ./results/ALine/Strong"
      ],
      "execution_count": null,
      "outputs": []
    },
    {
      "cell_type": "markdown",
      "metadata": {
        "id": "OzAXdAAlPx_G"
      },
      "source": [
        "Di seguito verranno mostrate tutte le immagini considerate **Fortissime**."
      ]
    },
    {
      "cell_type": "code",
      "metadata": {
        "id": "CAmO4M-DP2kL"
      },
      "source": [
        "from IPython.display import Image, display\n",
        "\n",
        "with open('./results/ALine/Strong/strongest.txt', 'r') as f:\n",
        "  for img_path in f:\n",
        "    display(Image(filename=img_path.strip('\\n')))\n"
      ],
      "execution_count": null,
      "outputs": []
    },
    {
      "cell_type": "markdown",
      "metadata": {
        "id": "0_8V5fGaByEq"
      },
      "source": [
        "# DeepUndeeper\n"
      ]
    },
    {
      "cell_type": "markdown",
      "metadata": {
        "id": "eS0VNYTsB1xl"
      },
      "source": [
        "Questo modello analizza le immagini in input e dovrebbe comprendere se sono distorte da qualche filtro oppure no (??)\n",
        "\n",
        "Con i comandi successivi vengono passate al modello il dataset ALine originale e quelli alterati dai filtri di Diego. I risultati saranno salvati in file `.csv`."
      ]
    },
    {
      "cell_type": "code",
      "metadata": {
        "id": "hWYMAIr0C32w"
      },
      "source": [
        "# crea cartella per contenere i risultati\n",
        "!mkdir ./results/DeepUndeeper\n",
        "\n",
        "# esecuzione del testing col modello DeepUndeeper\n",
        "%cd deep_undeeper/\n",
        "!python main.py ../dataset/ALine $(ls -d ../dataset/Multifilter/*)\n",
        "\n",
        "# sposto i risultati nella giusta cartella\n",
        "!mv *.csv ../results/DeepUndeeper\n",
        "%cd .."
      ],
      "execution_count": null,
      "outputs": []
    }
  ]
}